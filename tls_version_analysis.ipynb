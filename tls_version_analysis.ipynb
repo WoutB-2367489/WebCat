{
 "cells": [
  {
   "cell_type": "code",
   "id": "c74018179bbb3a25",
   "metadata": {
    "ExecuteTime": {
     "end_time": "2025-05-14T16:36:19.160423Z",
     "start_time": "2025-05-14T16:36:19.128929Z"
    }
   },
   "source": [
    "import duckdb\n",
    "import os"
   ],
   "outputs": [],
   "execution_count": 2
  },
  {
   "metadata": {
    "ExecuteTime": {
     "end_time": "2025-05-14T16:36:19.892984Z",
     "start_time": "2025-05-14T16:36:19.890191Z"
    }
   },
   "cell_type": "code",
   "source": [
    "file_path = 'data/tls_features.parquet'\n",
    "\n",
    "if os.path.exists(file_path):\n",
    "    print(f\"File found: {file_path}\")\n",
    "else:\n",
    "    print(f\"Error: File not found: {file_path}\")"
   ],
   "id": "a59f3016f3ea794d",
   "outputs": [
    {
     "name": "stdout",
     "output_type": "stream",
     "text": [
      "File found: data/tls_features.parquet\n"
     ]
    }
   ],
   "execution_count": 3
  },
  {
   "metadata": {
    "ExecuteTime": {
     "end_time": "2025-05-14T16:36:48.222677Z",
     "start_time": "2025-05-14T16:36:48.201842Z"
    }
   },
   "cell_type": "code",
   "source": "con = duckdb.connect(\":memory:\")",
   "id": "a9d190f73b9eb204",
   "outputs": [],
   "execution_count": 6
  },
  {
   "metadata": {},
   "cell_type": "code",
   "execution_count": null,
   "source": "query = f\"\"\"select count(1) from '{file_path}'\"\"\"",
   "id": "46aedafb3bf200b0",
   "outputs": []
  },
  {
   "metadata": {
    "ExecuteTime": {
     "end_time": "2025-05-14T17:10:29.194367Z",
     "start_time": "2025-05-14T17:10:29.190062Z"
    }
   },
   "cell_type": "code",
   "source": "query = f\"\"\"select highest_version_supported from '{file_path}' where domain_name like 'vfx%' limit 5\"\"\"",
   "id": "9305f7195766d432",
   "outputs": [],
   "execution_count": 32
  },
  {
   "metadata": {},
   "cell_type": "code",
   "outputs": [],
   "execution_count": null,
   "source": [
    "query = f\"\"\"\n",
    "SELECT count(1) from\n",
    "    (SELECT visit_id, domain_name FROM '{file_path}' group by visit_id, domain_name)\n",
    "\"\"\""
   ],
   "id": "2b3faab38be406ee"
  },
  {
   "metadata": {
    "ExecuteTime": {
     "end_time": "2025-05-14T16:37:10.921073Z",
     "start_time": "2025-05-14T16:37:10.917006Z"
    }
   },
   "cell_type": "code",
   "source": "query = f\"\"\"select count(1) from '{file_path}' where connect_ok is True\"\"\"\n",
   "id": "7ddc80ac2e5f9af8",
   "outputs": [],
   "execution_count": 8
  },
  {
   "metadata": {
    "ExecuteTime": {
     "end_time": "2025-05-14T16:37:55.368406Z",
     "start_time": "2025-05-14T16:37:55.363367Z"
    }
   },
   "cell_type": "code",
   "source": [
    "query = f\"\"\"\n",
    "SELECT count(1) from\n",
    "    (SELECT visit_id, domain_name FROM '{file_path}' where connect_ok is True group by visit_id, domain_name)\n",
    "\"\"\""
   ],
   "id": "70616994ded982a1",
   "outputs": [],
   "execution_count": 10
  },
  {
   "metadata": {
    "ExecuteTime": {
     "end_time": "2025-05-14T17:13:31.335248Z",
     "start_time": "2025-05-14T17:13:31.329537Z"
    }
   },
   "cell_type": "code",
   "source": [
    "query = f\"\"\"\n",
    "SELECT * from\n",
    "    (SELECT visit_id, domain_name\n",
    "    FROM '{file_path}'\n",
    "    where connect_ok\n",
    "    and highest_version_supported is not Null\n",
    "    and lowest_version_supported is not NUll\n",
    "    is True group by visit_id, domain_name)\n",
    "\n",
    "\"\"\""
   ],
   "id": "1e04d9aa4b49afc",
   "outputs": [],
   "execution_count": 45
  },
  {
   "metadata": {
    "ExecuteTime": {
     "end_time": "2025-05-14T17:14:22.490053Z",
     "start_time": "2025-05-14T17:14:22.485315Z"
    }
   },
   "cell_type": "code",
   "source": [
    "query = f\"\"\"\n",
    "SELECT high, low, count(1) from\n",
    "    (SELECT visit_id, domain_name, max(highest_version_supported) as high, max(lowest_version_supported) as low\n",
    "    FROM '{file_path}'\n",
    "    where connect_ok\n",
    "    and highest_version_supported is not Null\n",
    "    and lowest_version_supported is not NUll\n",
    "    is True group by visit_id, domain_name) group by high, low\n",
    "\"\"\"\n",
    "\n"
   ],
   "id": "614233725332cf09",
   "outputs": [],
   "execution_count": 53
  },
  {
   "metadata": {},
   "cell_type": "code",
   "execution_count": null,
   "source": "",
   "id": "6eedfe7e938af885",
   "outputs": []
  },
  {
   "metadata": {},
   "cell_type": "code",
   "execution_count": null,
   "source": "",
   "id": "522f7ab054abe13a",
   "outputs": []
  },
  {
   "metadata": {},
   "cell_type": "code",
   "execution_count": null,
   "source": "",
   "id": "4e13f50f2050c093",
   "outputs": []
  },
  {
   "metadata": {
    "ExecuteTime": {
     "end_time": "2025-05-14T17:14:24.368814Z",
     "start_time": "2025-05-14T17:14:24.340209Z"
    }
   },
   "cell_type": "code",
   "outputs": [
    {
     "data": {
      "text/plain": [
       "       high      low  count(1)\n",
       "0   TLSv1.3  TLSv1.2      2643\n",
       "1   TLSv1.2  TLSv1.2       907\n",
       "2   TLSv1.3    TLSv1      1589\n",
       "3   TLSv1.3  TLSv1.1       745\n",
       "4   TLSv1.1    TLSv1        77\n",
       "5   TLSv1.1  TLSv1.1        71\n",
       "6   TLSv1.2    SSLv3         3\n",
       "7     TLSv1    TLSv1        63\n",
       "8   TLSv1.2    TLSv1       263\n",
       "9   TLSv1.2  TLSv1.1       150\n",
       "10  TLSv1.1    SSLv3         1\n",
       "11  TLSv1.3  TLSv1.3      2200\n",
       "12    TLSv1    SSLv3         1"
      ],
      "text/html": [
       "<div>\n",
       "<style scoped>\n",
       "    .dataframe tbody tr th:only-of-type {\n",
       "        vertical-align: middle;\n",
       "    }\n",
       "\n",
       "    .dataframe tbody tr th {\n",
       "        vertical-align: top;\n",
       "    }\n",
       "\n",
       "    .dataframe thead th {\n",
       "        text-align: right;\n",
       "    }\n",
       "</style>\n",
       "<table border=\"1\" class=\"dataframe\">\n",
       "  <thead>\n",
       "    <tr style=\"text-align: right;\">\n",
       "      <th></th>\n",
       "      <th>high</th>\n",
       "      <th>low</th>\n",
       "      <th>count(1)</th>\n",
       "    </tr>\n",
       "  </thead>\n",
       "  <tbody>\n",
       "    <tr>\n",
       "      <th>0</th>\n",
       "      <td>TLSv1.3</td>\n",
       "      <td>TLSv1.2</td>\n",
       "      <td>2643</td>\n",
       "    </tr>\n",
       "    <tr>\n",
       "      <th>1</th>\n",
       "      <td>TLSv1.2</td>\n",
       "      <td>TLSv1.2</td>\n",
       "      <td>907</td>\n",
       "    </tr>\n",
       "    <tr>\n",
       "      <th>2</th>\n",
       "      <td>TLSv1.3</td>\n",
       "      <td>TLSv1</td>\n",
       "      <td>1589</td>\n",
       "    </tr>\n",
       "    <tr>\n",
       "      <th>3</th>\n",
       "      <td>TLSv1.3</td>\n",
       "      <td>TLSv1.1</td>\n",
       "      <td>745</td>\n",
       "    </tr>\n",
       "    <tr>\n",
       "      <th>4</th>\n",
       "      <td>TLSv1.1</td>\n",
       "      <td>TLSv1</td>\n",
       "      <td>77</td>\n",
       "    </tr>\n",
       "    <tr>\n",
       "      <th>5</th>\n",
       "      <td>TLSv1.1</td>\n",
       "      <td>TLSv1.1</td>\n",
       "      <td>71</td>\n",
       "    </tr>\n",
       "    <tr>\n",
       "      <th>6</th>\n",
       "      <td>TLSv1.2</td>\n",
       "      <td>SSLv3</td>\n",
       "      <td>3</td>\n",
       "    </tr>\n",
       "    <tr>\n",
       "      <th>7</th>\n",
       "      <td>TLSv1</td>\n",
       "      <td>TLSv1</td>\n",
       "      <td>63</td>\n",
       "    </tr>\n",
       "    <tr>\n",
       "      <th>8</th>\n",
       "      <td>TLSv1.2</td>\n",
       "      <td>TLSv1</td>\n",
       "      <td>263</td>\n",
       "    </tr>\n",
       "    <tr>\n",
       "      <th>9</th>\n",
       "      <td>TLSv1.2</td>\n",
       "      <td>TLSv1.1</td>\n",
       "      <td>150</td>\n",
       "    </tr>\n",
       "    <tr>\n",
       "      <th>10</th>\n",
       "      <td>TLSv1.1</td>\n",
       "      <td>SSLv3</td>\n",
       "      <td>1</td>\n",
       "    </tr>\n",
       "    <tr>\n",
       "      <th>11</th>\n",
       "      <td>TLSv1.3</td>\n",
       "      <td>TLSv1.3</td>\n",
       "      <td>2200</td>\n",
       "    </tr>\n",
       "    <tr>\n",
       "      <th>12</th>\n",
       "      <td>TLSv1</td>\n",
       "      <td>SSLv3</td>\n",
       "      <td>1</td>\n",
       "    </tr>\n",
       "  </tbody>\n",
       "</table>\n",
       "</div>"
      ]
     },
     "metadata": {},
     "output_type": "display_data"
    }
   ],
   "execution_count": 54,
   "source": [
    "preview_df = con.execute(query).fetchdf()\n",
    "display(preview_df)"
   ],
   "id": "9ef7ed24148a7d4f"
  }
 ],
 "metadata": {
  "kernelspec": {
   "display_name": "Python 3",
   "language": "python",
   "name": "python3"
  },
  "language_info": {
   "codemirror_mode": {
    "name": "ipython",
    "version": 2
   },
   "file_extension": ".py",
   "mimetype": "text/x-python",
   "name": "python",
   "nbconvert_exporter": "python",
   "pygments_lexer": "ipython2",
   "version": "2.7.6"
  }
 },
 "nbformat": 4,
 "nbformat_minor": 5
}

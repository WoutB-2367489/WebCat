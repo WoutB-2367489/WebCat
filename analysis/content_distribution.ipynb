{
 "cells": [
  {
   "cell_type": "code",
   "execution_count": null,
   "id": "initial_id",
   "metadata": {
    "collapsed": true
   },
   "outputs": [],
   "source": [
    ""
   ]
  },
  {
   "metadata": {
    "ExecuteTime": {
     "end_time": "2025-05-16T09:07:55.567360Z",
     "start_time": "2025-05-16T09:07:55.114244Z"
    }
   },
   "cell_type": "code",
   "source": [
    "import duckdb\n",
    "import matplotlib.pyplot as plt\n",
    "import os\n",
    "\n",
    "file_path = 'data/be/be_low_content_predictions.parquet'\n",
    "if os.path.exists(file_path):\n",
    "    print(f\"File found: {file_path}\")\n",
    "else:\n",
    "    print(f\"Error: File not found: {file_path}\")\n",
    "\n"
   ],
   "id": "a472a9c53e3834fb",
   "outputs": [
    {
     "name": "stdout",
     "output_type": "stream",
     "text": [
      "File found: data/be/be_low_content_predictions.parquet\n"
     ]
    }
   ],
   "execution_count": 2
  },
  {
   "metadata": {
    "ExecuteTime": {
     "end_time": "2025-05-16T09:08:03.048065Z",
     "start_time": "2025-05-16T09:08:02.552603Z"
    }
   },
   "cell_type": "code",
   "source": [
    "\n",
    "con = duckdb.connect(database=':memory:')\n",
    "\n",
    "schema_query = f\"\"\"DESCRIBE SELECT * FROM '{file_path}'\"\"\"\n",
    "schema_df = con.execute(schema_query).fetchdf()\n",
    "print(\"Schema of the parquet file:\")\n",
    "display(schema_df)\n"
   ],
   "id": "4bd1b486d7bd499e",
   "outputs": [
    {
     "name": "stdout",
     "output_type": "stream",
     "text": [
      "Schema of the parquet file:\n"
     ]
    },
    {
     "data": {
      "text/plain": [
       "  column_name column_type null   key default extra\n",
       "0    visit_id     VARCHAR  YES  None    None  None\n",
       "1  prediction       FLOAT  YES  None    None  None\n",
       "2    decision     BOOLEAN  YES  None    None  None\n",
       "3     entropy      DOUBLE  YES  None    None  None"
      ],
      "text/html": [
       "<div>\n",
       "<style scoped>\n",
       "    .dataframe tbody tr th:only-of-type {\n",
       "        vertical-align: middle;\n",
       "    }\n",
       "\n",
       "    .dataframe tbody tr th {\n",
       "        vertical-align: top;\n",
       "    }\n",
       "\n",
       "    .dataframe thead th {\n",
       "        text-align: right;\n",
       "    }\n",
       "</style>\n",
       "<table border=\"1\" class=\"dataframe\">\n",
       "  <thead>\n",
       "    <tr style=\"text-align: right;\">\n",
       "      <th></th>\n",
       "      <th>column_name</th>\n",
       "      <th>column_type</th>\n",
       "      <th>null</th>\n",
       "      <th>key</th>\n",
       "      <th>default</th>\n",
       "      <th>extra</th>\n",
       "    </tr>\n",
       "  </thead>\n",
       "  <tbody>\n",
       "    <tr>\n",
       "      <th>0</th>\n",
       "      <td>visit_id</td>\n",
       "      <td>VARCHAR</td>\n",
       "      <td>YES</td>\n",
       "      <td>None</td>\n",
       "      <td>None</td>\n",
       "      <td>None</td>\n",
       "    </tr>\n",
       "    <tr>\n",
       "      <th>1</th>\n",
       "      <td>prediction</td>\n",
       "      <td>FLOAT</td>\n",
       "      <td>YES</td>\n",
       "      <td>None</td>\n",
       "      <td>None</td>\n",
       "      <td>None</td>\n",
       "    </tr>\n",
       "    <tr>\n",
       "      <th>2</th>\n",
       "      <td>decision</td>\n",
       "      <td>BOOLEAN</td>\n",
       "      <td>YES</td>\n",
       "      <td>None</td>\n",
       "      <td>None</td>\n",
       "      <td>None</td>\n",
       "    </tr>\n",
       "    <tr>\n",
       "      <th>3</th>\n",
       "      <td>entropy</td>\n",
       "      <td>DOUBLE</td>\n",
       "      <td>YES</td>\n",
       "      <td>None</td>\n",
       "      <td>None</td>\n",
       "      <td>None</td>\n",
       "    </tr>\n",
       "  </tbody>\n",
       "</table>\n",
       "</div>"
      ]
     },
     "metadata": {},
     "output_type": "display_data"
    }
   ],
   "execution_count": 3
  },
  {
   "metadata": {
    "ExecuteTime": {
     "end_time": "2025-05-16T09:20:30.496379Z",
     "start_time": "2025-05-16T09:20:30.481113Z"
    }
   },
   "cell_type": "code",
   "source": [
    "\n",
    "\n",
    "query1 = f\"\"\"\n",
    "SELECT decision,  (count(*) / (select count(1) from '{file_path}'))*100 as count\n",
    "FROM '{file_path}'\n",
    "GROUP BY decision\n",
    "\"\"\"\n",
    "\n",
    "result_df = con.execute(query1).fetchdf()\n",
    "print(\"TLS Version Distribution (Single Column Approach):\")\n",
    "display(result_df)\n",
    "\n"
   ],
   "id": "ba124179f3a91d72",
   "outputs": [
    {
     "name": "stdout",
     "output_type": "stream",
     "text": [
      "TLS Version Distribution (Single Column Approach):\n"
     ]
    },
    {
     "data": {
      "text/plain": [
       "   decision      count\n",
       "0     False  83.173077\n",
       "1      True  16.826923"
      ],
      "text/html": [
       "<div>\n",
       "<style scoped>\n",
       "    .dataframe tbody tr th:only-of-type {\n",
       "        vertical-align: middle;\n",
       "    }\n",
       "\n",
       "    .dataframe tbody tr th {\n",
       "        vertical-align: top;\n",
       "    }\n",
       "\n",
       "    .dataframe thead th {\n",
       "        text-align: right;\n",
       "    }\n",
       "</style>\n",
       "<table border=\"1\" class=\"dataframe\">\n",
       "  <thead>\n",
       "    <tr style=\"text-align: right;\">\n",
       "      <th></th>\n",
       "      <th>decision</th>\n",
       "      <th>count</th>\n",
       "    </tr>\n",
       "  </thead>\n",
       "  <tbody>\n",
       "    <tr>\n",
       "      <th>0</th>\n",
       "      <td>False</td>\n",
       "      <td>83.173077</td>\n",
       "    </tr>\n",
       "    <tr>\n",
       "      <th>1</th>\n",
       "      <td>True</td>\n",
       "      <td>16.826923</td>\n",
       "    </tr>\n",
       "  </tbody>\n",
       "</table>\n",
       "</div>"
      ]
     },
     "metadata": {},
     "output_type": "display_data"
    }
   ],
   "execution_count": 21
  },
  {
   "metadata": {
    "ExecuteTime": {
     "end_time": "2025-05-16T09:22:42.925315Z",
     "start_time": "2025-05-16T09:22:42.830364Z"
    }
   },
   "cell_type": "code",
   "source": [
    "if 'result_df' in locals():\n",
    "    # Set up the figure with one subplot\n",
    "    fig, ax1 = plt.subplots(1, 1, figsize=(8,8))\n",
    "\n",
    "    # Donut Chart\n",
    "    # Create custom legend labels with percentages\n",
    "    legend_labels = [f\"{row['decision']} ({row['count']})\" for _, row in result_df.iterrows()]\n",
    "\n",
    "    # Remove autopct to not show percentages on the chart\n",
    "    ax1.pie(result_df['count'], labels=None, startangle=90, shadow=False,\n",
    "           colors=[\"#52BDEC\", \"#00407A\", \"#DD8A2E\", \"#E63946\", \"#000000\"],\n",
    "           wedgeprops=dict(width=0.5))\n",
    "\n",
    "    ax1.axis('equal')\n",
    "    # ax1.legend(legend_labels, loc='upper right')\n",
    "\n",
    "    plt.tight_layout()\n",
    "    plt.show()\n",
    "\n",
    "    # Display the results in a table\n",
    "    print(\"\\nTLS Version Distribution Summary:\")\n",
    "    display(result_df)\n",
    "else:\n",
    "    print(\"No valid results available for visualization. Please adjust the queries based on the actual schema.\")\n"
   ],
   "id": "7ac9ca77da3ccb18",
   "outputs": [
    {
     "data": {
      "text/plain": [
       "<Figure size 800x800 with 1 Axes>"
      ],
      "image/png": "[encoded data removed]"
     },
     "metadata": {},
     "output_type": "display_data"
    },
    {
     "name": "stdout",
     "output_type": "stream",
     "text": [
      "\n",
      "TLS Version Distribution Summary:\n"
     ]
    },
    {
     "data": {
      "text/plain": [
       "   decision      count\n",
       "0     False  83.173077\n",
       "1      True  16.826923"
      ],
      "text/html": [
       "<div>\n",
       "<style scoped>\n",
       "    .dataframe tbody tr th:only-of-type {\n",
       "        vertical-align: middle;\n",
       "    }\n",
       "\n",
       "    .dataframe tbody tr th {\n",
       "        vertical-align: top;\n",
       "    }\n",
       "\n",
       "    .dataframe thead th {\n",
       "        text-align: right;\n",
       "    }\n",
       "</style>\n",
       "<table border=\"1\" class=\"dataframe\">\n",
       "  <thead>\n",
       "    <tr style=\"text-align: right;\">\n",
       "      <th></th>\n",
       "      <th>decision</th>\n",
       "      <th>count</th>\n",
       "    </tr>\n",
       "  </thead>\n",
       "  <tbody>\n",
       "    <tr>\n",
       "      <th>0</th>\n",
       "      <td>False</td>\n",
       "      <td>83.173077</td>\n",
       "    </tr>\n",
       "    <tr>\n",
       "      <th>1</th>\n",
       "      <td>True</td>\n",
       "      <td>16.826923</td>\n",
       "    </tr>\n",
       "  </tbody>\n",
       "</table>\n",
       "</div>"
      ]
     },
     "metadata": {},
     "output_type": "display_data"
    }
   ],
   "execution_count": 25
  }
 ],
 "metadata": {
  "kernelspec": {
   "display_name": "Python 3",
   "language": "python",
   "name": "python3"
  },
  "language_info": {
   "codemirror_mode": {
    "name": "ipython",
    "version": 2
   },
   "file_extension": ".py",
   "mimetype": "text/x-python",
   "name": "python",
   "nbconvert_exporter": "python",
   "pygments_lexer": "ipython2",
   "version": "2.7.6"
  }
 },
 "nbformat": 4,
 "nbformat_minor": 5
}

{
 "cells": [
  {
   "cell_type": "code",
   "id": "c74018179bbb3a25",
   "metadata": {
    "ExecuteTime": {
     "end_time": "2025-05-14T17:55:20.452951Z",
     "start_time": "2025-05-14T17:55:20.448911Z"
    }
   },
   "source": [
    "import duckdb\n",
    "import os"
   ],
   "outputs": [],
   "execution_count": 31
  },
  {
   "metadata": {
    "ExecuteTime": {
     "end_time": "2025-05-14T17:55:20.527193Z",
     "start_time": "2025-05-14T17:55:20.521355Z"
    }
   },
   "cell_type": "code",
   "source": [
    "file_path = 'data_cc/cc_tls_features.parquet'\n",
    "\n",
    "if os.path.exists(file_path):\n",
    "    print(f\"File found: {file_path}\")\n",
    "else:\n",
    "    print(f\"Error: File not found: {file_path}\")"
   ],
   "id": "a59f3016f3ea794d",
   "outputs": [
    {
     "name": "stdout",
     "output_type": "stream",
     "text": [
      "File found: data_cc/cc_tls_features.parquet\n"
     ]
    }
   ],
   "execution_count": 32
  },
  {
   "metadata": {
    "ExecuteTime": {
     "end_time": "2025-05-14T17:55:20.631858Z",
     "start_time": "2025-05-14T17:55:20.605606Z"
    }
   },
   "cell_type": "code",
   "source": "con = duckdb.connect(\":memory:\")",
   "id": "a9d190f73b9eb204",
   "outputs": [],
   "execution_count": 33
  },
  {
   "metadata": {
    "ExecuteTime": {
     "end_time": "2025-05-14T17:55:20.670448Z",
     "start_time": "2025-05-14T17:55:20.665497Z"
    }
   },
   "cell_type": "code",
   "source": [
    "query1 = f\"\"\"select count(1) from '{file_path}'\"\"\"\n",
    "result1 = con.execute(query1).fetchdf()\n"
   ],
   "id": "41616b847f24cf32",
   "outputs": [],
   "execution_count": 34
  },
  {
   "metadata": {
    "ExecuteTime": {
     "end_time": "2025-05-14T17:55:20.733531Z",
     "start_time": "2025-05-14T17:55:20.725907Z"
    }
   },
   "cell_type": "code",
   "source": [
    "query2 = f\"\"\"\n",
    "SELECT count(1) from\n",
    "    (SELECT visit_id, domain_name FROM '{file_path}' group by visit_id, domain_name)\n",
    "\"\"\"\n",
    "result2 = con.execute(query2).fetchdf()\n"
   ],
   "id": "16f81bd93b01f928",
   "outputs": [],
   "execution_count": 35
  },
  {
   "metadata": {
    "ExecuteTime": {
     "end_time": "2025-05-14T17:55:20.791189Z",
     "start_time": "2025-05-14T17:55:20.785148Z"
    }
   },
   "cell_type": "code",
   "source": [
    "query3 = f\"\"\"select count(1) from '{file_path}' where connect_ok is True\"\"\"\n",
    "result3 = con.execute(query3).fetchdf()\n"
   ],
   "id": "530dc14c94ea3dff",
   "outputs": [],
   "execution_count": 36
  },
  {
   "metadata": {
    "ExecuteTime": {
     "end_time": "2025-05-14T17:55:20.853078Z",
     "start_time": "2025-05-14T17:55:20.850857Z"
    }
   },
   "cell_type": "code",
   "source": "",
   "id": "1d195226caf360f6",
   "outputs": [],
   "execution_count": null
  },
  {
   "metadata": {
    "ExecuteTime": {
     "end_time": "2025-05-14T17:55:20.930467Z",
     "start_time": "2025-05-14T17:55:20.918805Z"
    }
   },
   "cell_type": "code",
   "source": [
    "query4 = f\"\"\"\n",
    "SELECT count(1) from\n",
    "    (SELECT visit_id, domain_name FROM '{file_path}' where connect_ok is True group by visit_id, domain_name)\n",
    "\"\"\"\n",
    "result4 = con.execute(query4).fetchdf()\n"
   ],
   "id": "1d36532c1226339e",
   "outputs": [],
   "execution_count": 37
  },
  {
   "metadata": {
    "ExecuteTime": {
     "end_time": "2025-05-14T17:55:20.996549Z",
     "start_time": "2025-05-14T17:55:20.986784Z"
    }
   },
   "cell_type": "code",
   "source": [
    "query5 = f\"\"\"\n",
    "SELECT count(1) from\n",
    "    (SELECT visit_id, domain_name\n",
    "    FROM '{file_path}'\n",
    "    where connect_ok\n",
    "    and highest_version_supported is not Null\n",
    "    and lowest_version_supported is not NUll\n",
    "    is True group by visit_id, domain_name)\n",
    "\"\"\"\n",
    "result5 = con.execute(query5).fetchdf()\n"
   ],
   "id": "11dc482a9079d344",
   "outputs": [],
   "execution_count": 38
  },
  {
   "metadata": {
    "ExecuteTime": {
     "end_time": "2025-05-14T17:55:21.055962Z",
     "start_time": "2025-05-14T17:55:21.046518Z"
    }
   },
   "cell_type": "code",
   "source": [
    "query6 = f\"\"\"\n",
    "SELECT high, low, count(1) from\n",
    "    (SELECT visit_id, domain_name, max(highest_version_supported) as high, max(lowest_version_supported) as low\n",
    "    FROM '{file_path}'\n",
    "    where connect_ok\n",
    "    and highest_version_supported is not Null\n",
    "    and lowest_version_supported is not NUll\n",
    "    is True group by visit_id, domain_name) group by high, low\n",
    "\"\"\"\n",
    "result6 = con.execute(query6).fetchdf()\n"
   ],
   "id": "ffa6383cde7b16a8",
   "outputs": [],
   "execution_count": 39
  },
  {
   "metadata": {
    "ExecuteTime": {
     "end_time": "2025-05-14T17:55:21.154111Z",
     "start_time": "2025-05-14T17:55:21.119041Z"
    }
   },
   "cell_type": "code",
   "source": [
    "print(\"Query 1: Total count of records\")\n",
    "display(result1)\n",
    "\n",
    "print(\"Query 2: Count of unique visit_id and domain_name combinations\")\n",
    "display(result2)\n",
    "\n",
    "print(\"Query 3: Number or records with 'connect_ok' is True'\")\n",
    "display(result3)\n",
    "\n",
    "print(\"Query 4: Count of unique visit_id and domain_name combinations with successful connections\")\n",
    "display(result4)\n",
    "\n",
    "print(\"Query 5: Count of unique visit_id and domain_name combinations with valid version information (low / high column not Null)\")\n",
    "display(result5)\n",
    "\n",
    "print(\"Query 6: Distribution of highest and lowest supported TLS versions\")\n",
    "display(result6)\n",
    "\n"
   ],
   "id": "9f5f4b1f0fc5e387",
   "outputs": [
    {
     "name": "stdout",
     "output_type": "stream",
     "text": [
      "Query 1: Total count of records\n"
     ]
    },
    {
     "data": {
      "text/plain": [
       "   count(1)\n",
       "0      5280"
      ],
      "text/html": [
       "<div>\n",
       "<style scoped>\n",
       "    .dataframe tbody tr th:only-of-type {\n",
       "        vertical-align: middle;\n",
       "    }\n",
       "\n",
       "    .dataframe tbody tr th {\n",
       "        vertical-align: top;\n",
       "    }\n",
       "\n",
       "    .dataframe thead th {\n",
       "        text-align: right;\n",
       "    }\n",
       "</style>\n",
       "<table border=\"1\" class=\"dataframe\">\n",
       "  <thead>\n",
       "    <tr style=\"text-align: right;\">\n",
       "      <th></th>\n",
       "      <th>count(1)</th>\n",
       "    </tr>\n",
       "  </thead>\n",
       "  <tbody>\n",
       "    <tr>\n",
       "      <th>0</th>\n",
       "      <td>5280</td>\n",
       "    </tr>\n",
       "  </tbody>\n",
       "</table>\n",
       "</div>"
      ]
     },
     "metadata": {},
     "output_type": "display_data"
    },
    {
     "name": "stdout",
     "output_type": "stream",
     "text": [
      "Query 2: Count of unique visit_id and domain_name combinations\n"
     ]
    },
    {
     "data": {
      "text/plain": [
       "   count(1)\n",
       "0      2640"
      ],
      "text/html": [
       "<div>\n",
       "<style scoped>\n",
       "    .dataframe tbody tr th:only-of-type {\n",
       "        vertical-align: middle;\n",
       "    }\n",
       "\n",
       "    .dataframe tbody tr th {\n",
       "        vertical-align: top;\n",
       "    }\n",
       "\n",
       "    .dataframe thead th {\n",
       "        text-align: right;\n",
       "    }\n",
       "</style>\n",
       "<table border=\"1\" class=\"dataframe\">\n",
       "  <thead>\n",
       "    <tr style=\"text-align: right;\">\n",
       "      <th></th>\n",
       "      <th>count(1)</th>\n",
       "    </tr>\n",
       "  </thead>\n",
       "  <tbody>\n",
       "    <tr>\n",
       "      <th>0</th>\n",
       "      <td>2640</td>\n",
       "    </tr>\n",
       "  </tbody>\n",
       "</table>\n",
       "</div>"
      ]
     },
     "metadata": {},
     "output_type": "display_data"
    },
    {
     "name": "stdout",
     "output_type": "stream",
     "text": [
      "Query 3: Number or records with 'connect_ok' is True'\n"
     ]
    },
    {
     "data": {
      "text/plain": [
       "   count(1)\n",
       "0      1844"
      ],
      "text/html": [
       "<div>\n",
       "<style scoped>\n",
       "    .dataframe tbody tr th:only-of-type {\n",
       "        vertical-align: middle;\n",
       "    }\n",
       "\n",
       "    .dataframe tbody tr th {\n",
       "        vertical-align: top;\n",
       "    }\n",
       "\n",
       "    .dataframe thead th {\n",
       "        text-align: right;\n",
       "    }\n",
       "</style>\n",
       "<table border=\"1\" class=\"dataframe\">\n",
       "  <thead>\n",
       "    <tr style=\"text-align: right;\">\n",
       "      <th></th>\n",
       "      <th>count(1)</th>\n",
       "    </tr>\n",
       "  </thead>\n",
       "  <tbody>\n",
       "    <tr>\n",
       "      <th>0</th>\n",
       "      <td>1844</td>\n",
       "    </tr>\n",
       "  </tbody>\n",
       "</table>\n",
       "</div>"
      ]
     },
     "metadata": {},
     "output_type": "display_data"
    },
    {
     "name": "stdout",
     "output_type": "stream",
     "text": [
      "Query 4: Count of unique visit_id and domain_name combinations with successful connections\n"
     ]
    },
    {
     "data": {
      "text/plain": [
       "   count(1)\n",
       "0      1006"
      ],
      "text/html": [
       "<div>\n",
       "<style scoped>\n",
       "    .dataframe tbody tr th:only-of-type {\n",
       "        vertical-align: middle;\n",
       "    }\n",
       "\n",
       "    .dataframe tbody tr th {\n",
       "        vertical-align: top;\n",
       "    }\n",
       "\n",
       "    .dataframe thead th {\n",
       "        text-align: right;\n",
       "    }\n",
       "</style>\n",
       "<table border=\"1\" class=\"dataframe\">\n",
       "  <thead>\n",
       "    <tr style=\"text-align: right;\">\n",
       "      <th></th>\n",
       "      <th>count(1)</th>\n",
       "    </tr>\n",
       "  </thead>\n",
       "  <tbody>\n",
       "    <tr>\n",
       "      <th>0</th>\n",
       "      <td>1006</td>\n",
       "    </tr>\n",
       "  </tbody>\n",
       "</table>\n",
       "</div>"
      ]
     },
     "metadata": {},
     "output_type": "display_data"
    },
    {
     "name": "stdout",
     "output_type": "stream",
     "text": [
      "Query 5: Count of unique visit_id and domain_name combinations with valid version information (low / high column not Null)\n"
     ]
    },
    {
     "data": {
      "text/plain": [
       "   count(1)\n",
       "0       959"
      ],
      "text/html": [
       "<div>\n",
       "<style scoped>\n",
       "    .dataframe tbody tr th:only-of-type {\n",
       "        vertical-align: middle;\n",
       "    }\n",
       "\n",
       "    .dataframe tbody tr th {\n",
       "        vertical-align: top;\n",
       "    }\n",
       "\n",
       "    .dataframe thead th {\n",
       "        text-align: right;\n",
       "    }\n",
       "</style>\n",
       "<table border=\"1\" class=\"dataframe\">\n",
       "  <thead>\n",
       "    <tr style=\"text-align: right;\">\n",
       "      <th></th>\n",
       "      <th>count(1)</th>\n",
       "    </tr>\n",
       "  </thead>\n",
       "  <tbody>\n",
       "    <tr>\n",
       "      <th>0</th>\n",
       "      <td>959</td>\n",
       "    </tr>\n",
       "  </tbody>\n",
       "</table>\n",
       "</div>"
      ]
     },
     "metadata": {},
     "output_type": "display_data"
    },
    {
     "name": "stdout",
     "output_type": "stream",
     "text": [
      "Query 6 Distribution of highest and lowest supported TLS versions\n"
     ]
    },
    {
     "data": {
      "text/plain": [
       "      high      low  count(1)\n",
       "0  TLSv1.2  TLSv1.2        44\n",
       "1  TLSv1.3  TLSv1.3        15\n",
       "2  TLSv1.2    TLSv1        93\n",
       "3  TLSv1.2  TLSv1.1         2\n",
       "4    TLSv1    SSLv2         1\n",
       "5  TLSv1.3  TLSv1.1       133\n",
       "6  TLSv1.3    TLSv1       425\n",
       "7  TLSv1.2    SSLv3         2\n",
       "8  TLSv1.1    TLSv1         1\n",
       "9  TLSv1.3  TLSv1.2       243"
      ],
      "text/html": [
       "<div>\n",
       "<style scoped>\n",
       "    .dataframe tbody tr th:only-of-type {\n",
       "        vertical-align: middle;\n",
       "    }\n",
       "\n",
       "    .dataframe tbody tr th {\n",
       "        vertical-align: top;\n",
       "    }\n",
       "\n",
       "    .dataframe thead th {\n",
       "        text-align: right;\n",
       "    }\n",
       "</style>\n",
       "<table border=\"1\" class=\"dataframe\">\n",
       "  <thead>\n",
       "    <tr style=\"text-align: right;\">\n",
       "      <th></th>\n",
       "      <th>high</th>\n",
       "      <th>low</th>\n",
       "      <th>count(1)</th>\n",
       "    </tr>\n",
       "  </thead>\n",
       "  <tbody>\n",
       "    <tr>\n",
       "      <th>0</th>\n",
       "      <td>TLSv1.2</td>\n",
       "      <td>TLSv1.2</td>\n",
       "      <td>44</td>\n",
       "    </tr>\n",
       "    <tr>\n",
       "      <th>1</th>\n",
       "      <td>TLSv1.3</td>\n",
       "      <td>TLSv1.3</td>\n",
       "      <td>15</td>\n",
       "    </tr>\n",
       "    <tr>\n",
       "      <th>2</th>\n",
       "      <td>TLSv1.2</td>\n",
       "      <td>TLSv1</td>\n",
       "      <td>93</td>\n",
       "    </tr>\n",
       "    <tr>\n",
       "      <th>3</th>\n",
       "      <td>TLSv1.2</td>\n",
       "      <td>TLSv1.1</td>\n",
       "      <td>2</td>\n",
       "    </tr>\n",
       "    <tr>\n",
       "      <th>4</th>\n",
       "      <td>TLSv1</td>\n",
       "      <td>SSLv2</td>\n",
       "      <td>1</td>\n",
       "    </tr>\n",
       "    <tr>\n",
       "      <th>5</th>\n",
       "      <td>TLSv1.3</td>\n",
       "      <td>TLSv1.1</td>\n",
       "      <td>133</td>\n",
       "    </tr>\n",
       "    <tr>\n",
       "      <th>6</th>\n",
       "      <td>TLSv1.3</td>\n",
       "      <td>TLSv1</td>\n",
       "      <td>425</td>\n",
       "    </tr>\n",
       "    <tr>\n",
       "      <th>7</th>\n",
       "      <td>TLSv1.2</td>\n",
       "      <td>SSLv3</td>\n",
       "      <td>2</td>\n",
       "    </tr>\n",
       "    <tr>\n",
       "      <th>8</th>\n",
       "      <td>TLSv1.1</td>\n",
       "      <td>TLSv1</td>\n",
       "      <td>1</td>\n",
       "    </tr>\n",
       "    <tr>\n",
       "      <th>9</th>\n",
       "      <td>TLSv1.3</td>\n",
       "      <td>TLSv1.2</td>\n",
       "      <td>243</td>\n",
       "    </tr>\n",
       "  </tbody>\n",
       "</table>\n",
       "</div>"
      ]
     },
     "metadata": {},
     "output_type": "display_data"
    }
   ],
   "execution_count": 40
  }
 ],
 "metadata": {
  "kernelspec": {
   "display_name": "Python 3",
   "language": "python",
   "name": "python3"
  },
  "language_info": {
   "codemirror_mode": {
    "name": "ipython",
    "version": 2
   },
   "file_extension": ".py",
   "mimetype": "text/x-python",
   "name": "python",
   "nbconvert_exporter": "python",
   "pygments_lexer": "ipython2",
   "version": "2.7.6"
  }
 },
 "nbformat": 4,
 "nbformat_minor": 5
}
